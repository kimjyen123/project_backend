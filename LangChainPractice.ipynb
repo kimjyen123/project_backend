{
 "cells": [
  {
   "cell_type": "code",
   "execution_count": 9,
   "id": "ebd505eb-09a1-4a5e-8a9a-8469d29c5fc3",
   "metadata": {},
   "outputs": [
    {
     "name": "stdout",
     "output_type": "stream",
     "text": [
      "Note: you may need to restart the kernel to use updated packages.\n"
     ]
    }
   ],
   "source": [
    "pip install langchain -q"
   ]
  },
  {
   "cell_type": "code",
   "execution_count": 6,
   "id": "f4fc8f67-119f-426d-8ec7-d808a8d5dc6f",
   "metadata": {},
   "outputs": [
    {
     "name": "stdout",
     "output_type": "stream",
     "text": [
      " ········\n"
     ]
    }
   ],
   "source": [
    "import getpass\n",
    "import os\n",
    "\n",
    "os.environ[\"LANGCHAIN_TRACING_V2\"] = \"true\"\n",
    "os.environ[\"LANGCHAIN_API_KEY\"] = getpass.getpass()"
   ]
  },
  {
   "cell_type": "code",
   "execution_count": 7,
   "id": "a4420395-735e-4166-b7d4-709f05a80b64",
   "metadata": {},
   "outputs": [
    {
     "name": "stdout",
     "output_type": "stream",
     "text": [
      "Note: you may need to restart the kernel to use updated packages.\n"
     ]
    }
   ],
   "source": [
    "pip install  openai langchain sentence_transformers chromadb unstructured -q\n"
   ]
  },
  {
   "cell_type": "code",
   "execution_count": 12,
   "id": "de4894ea-1b6d-420f-8d07-cde22fddb97c",
   "metadata": {},
   "outputs": [
    {
     "name": "stdout",
     "output_type": "stream",
     "text": [
      "Note: you may need to restart the kernel to use updated packages.\n"
     ]
    }
   ],
   "source": [
    "pip install -U langchain-community langchain-huggingface -q\n"
   ]
  },
  {
   "cell_type": "code",
   "execution_count": 13,
   "id": "e35988b1-af6f-416d-b38a-0338f2a644e0",
   "metadata": {},
   "outputs": [
    {
     "name": "stdout",
     "output_type": "stream",
     "text": [
      "Note: you may need to restart the kernel to use updated packages.\n"
     ]
    }
   ],
   "source": [
    "pip install \"unstructured[docx]\" -q"
   ]
  },
  {
   "cell_type": "code",
   "execution_count": 1,
   "id": "b27a9153-17d7-441a-b26e-f20ef224887d",
   "metadata": {},
   "outputs": [
    {
     "name": "stderr",
     "output_type": "stream",
     "text": [
      "/Users/jkim/project_backend/.venv/lib/python3.9/site-packages/urllib3/__init__.py:35: NotOpenSSLWarning: urllib3 v2 only supports OpenSSL 1.1.1+, currently the 'ssl' module is compiled with 'LibreSSL 2.8.3'. See: https://github.com/urllib3/urllib3/issues/3020\n",
      "  warnings.warn(\n"
     ]
    },
    {
     "data": {
      "text/plain": [
       "1"
      ]
     },
     "execution_count": 1,
     "metadata": {},
     "output_type": "execute_result"
    }
   ],
   "source": [
    "from langchain.document_loaders import DirectoryLoader\n",
    "\n",
    "directory = r'/Users/jkim/Library/CloudStorage/OneDrive-OmniAb,Inc/Documents/xPloration User Manual/xPloration User Manual'\n",
    "\n",
    "def load_docs(directory):\n",
    "  loader = DirectoryLoader(directory)\n",
    "  documents = loader.load()\n",
    "  return documents\n",
    "\n",
    "documents = load_docs(directory)\n",
    "len(documents)\n"
   ]
  },
  {
   "cell_type": "code",
   "execution_count": 2,
   "id": "d3c60b07-f055-4d81-9a21-aa337f64b310",
   "metadata": {},
   "outputs": [
    {
     "name": "stdout",
     "output_type": "stream",
     "text": [
      "60\n"
     ]
    }
   ],
   "source": [
    "from langchain.text_splitter import RecursiveCharacterTextSplitter\n",
    "\n",
    "def split_docs(documents,chunk_size=1000,chunk_overlap=20):\n",
    "  text_splitter = RecursiveCharacterTextSplitter(chunk_size=chunk_size, chunk_overlap=chunk_overlap)\n",
    "  docs = text_splitter.split_documents(documents)\n",
    "  return docs\n",
    "\n",
    "docs = split_docs(documents)\n",
    "print(len(docs))"
   ]
  },
  {
   "cell_type": "code",
   "execution_count": 3,
   "id": "08714e2b-dc1b-4c1e-baa6-500c51d790fc",
   "metadata": {},
   "outputs": [
    {
     "name": "stderr",
     "output_type": "stream",
     "text": [
      "/Users/jkim/project_backend/.venv/lib/python3.9/site-packages/langchain_core/_api/deprecation.py:139: LangChainDeprecationWarning: The class `HuggingFaceEmbeddings` was deprecated in LangChain 0.2.2 and will be removed in 0.3.0. An updated version of the class exists in the langchain-huggingface package and should be used instead. To use it run `pip install -U langchain-huggingface` and import as `from langchain_huggingface import HuggingFaceEmbeddings`.\n",
      "  warn_deprecated(\n",
      "/Users/jkim/project_backend/.venv/lib/python3.9/site-packages/sentence_transformers/cross_encoder/CrossEncoder.py:11: TqdmExperimentalWarning: Using `tqdm.autonotebook.tqdm` in notebook mode. Use `tqdm.tqdm` instead to force console mode (e.g. in jupyter console)\n",
      "  from tqdm.autonotebook import tqdm, trange\n"
     ]
    }
   ],
   "source": [
    "from langchain.embeddings import SentenceTransformerEmbeddings\n",
    "embeddings = SentenceTransformerEmbeddings(model_name=\"all-MiniLM-L6-v2\")\n"
   ]
  },
  {
   "cell_type": "code",
   "execution_count": 4,
   "id": "4562097e-6dd1-41fb-b610-9546f2851a23",
   "metadata": {},
   "outputs": [],
   "source": [
    "from langchain.vectorstores import Chroma\n",
    "db = Chroma.from_documents(docs, embeddings)"
   ]
  },
  {
   "cell_type": "code",
   "execution_count": 6,
   "id": "75b4ca60-830c-4457-83dd-171e907fe1da",
   "metadata": {},
   "outputs": [
    {
     "data": {
      "text/plain": [
       "Document(metadata={'source': '/Users/jkim/Library/CloudStorage/OneDrive-OmniAb,Inc/Documents/xPloration User Manual/xPloration User Manual/Recent_xPloration User Manual_2024-03-25.docx'}, page_content='Guided Scan\\n\\nAbout Guided Scan\\n\\nGuided Scan marks the start of the complete workflow. It allows you to input scanning details, insert a chip, adjust imaging parameters, select a region, and execute automated scanning.\\n\\nProcedure\\n\\nOn the main screen, click GUIDED SCAN to go to the next screen.')"
      ]
     },
     "execution_count": 6,
     "metadata": {},
     "output_type": "execute_result"
    }
   ],
   "source": [
    "query = \"Guided Scan mode\"\n",
    "matching_docs = db.similarity_search(query)\n",
    "\n",
    "matching_docs[0]"
   ]
  },
  {
   "cell_type": "code",
   "execution_count": 7,
   "id": "b37ca71a-8dbe-435a-aca7-e7000e1c979b",
   "metadata": {},
   "outputs": [
    {
     "name": "stderr",
     "output_type": "stream",
     "text": [
      "/Users/jkim/project_backend/.venv/lib/python3.9/site-packages/langchain_core/_api/deprecation.py:139: LangChainDeprecationWarning: Since Chroma 0.4.x the manual persistence method is no longer supported as docs are automatically persisted.\n",
      "  warn_deprecated(\n"
     ]
    }
   ],
   "source": [
    "persist_directory = \"chroma_db\"\n",
    "\n",
    "vectordb = Chroma.from_documents(\n",
    "    documents=docs, embedding=embeddings, persist_directory=persist_directory\n",
    ")\n",
    "\n",
    "vectordb.persist()\n"
   ]
  },
  {
   "cell_type": "code",
   "execution_count": 16,
   "id": "e4647105-db78-48cf-8302-287dcf230814",
   "metadata": {},
   "outputs": [
    {
     "data": {
      "text/plain": [
       "[Document(metadata={'source': '/Users/jkim/Library/CloudStorage/OneDrive-OmniAb,Inc/Documents/xPloration User Manual/xPloration User Manual/Recent_xPloration User Manual_2024-03-25.docx'}, page_content=\"xPloration® User Guide\\n\\nUser Manual\\n\\nUM-xPloration-00001 Rev D\\t2\\tOmniAb, Inc.\\n\\nUM-xPloration-00001 Rev A\\t23\\tConfidential\\n\\nxPloration® User Guide\\n\\nTracking Information\\n\\nItem Run 1 Run 2 Run 3 Run 4 Run 5 Run 6 Project ID Screening Date \\n(YYYY-MM-DD) Operator Chip Number Animal Number Antigen Target Fluorescent Channels (Exposure Time) Screening Bead/Cell Types Number of Capillaries Screened Number of Hits Extraction Plate ID and # of Extractions\\n\\nUM-xPloration-00001 Rev A\\t23\\tConfidential\\n\\nRevision History\\n\\nRev Date Author Change A 2/21/2024 John Kim Initial release\\n\\nContents\\n\\nIntroduction\\n\\nAbout This Manual\\n\\nThis manual describes how to run the xPloration® workflow using the xPloration system. It provides an overview of how to prepare samples, operate the xPloration instrument, select and extract target hits for cloning or NGS sequencing.\\n\\nConventions Used in This Manual\\n\\nType Description IMPORTANT Indicates an important step that requires attention. This warning is given to alert you of potential risk.\\n\\nWorkflow Overview\\n\\nThe workflow consists of the following modules: \\n\\nPre-Workflow Component Preparation (2 hours). Perform this step the day before preparing the reagents and running the workflow. Note that chip cleaning is unnecessary when using a new chip. If a premade gel is available or provided beforehand, the Overlay Gel Fabrication step can be skipped.\\n\\nReagent Preparation (1 hour). Bead conjugation typically requires completion on the preceding day. \\n\\nxPloration Workflow (4 hours). The full workflow is run using Guided Scan mode, but you can run Manual Mode before Guided Scan if needed. See Scanning Modes on page 10 for details on each mode.\\n\\nThe following table describes the steps in the xPloration workflow.\\n\\nModule Section Description Pre-Workflow Component Preparation Chip Cleaning on page 12 This section describes how to clean chips for reuse. Overlay Gel Fabrication on page 14 This section describes how to make a gel overlay used during the reagent preparation. Skip this section if already pre-made. Reagent Preparation Preparing Antibody Secreting Cells on page 16 This section describes the necessary washing and concentration steps after cell isolation to optimize single-cell occupancy in a chip. Preparing Detection Antibody Media on page 20 This section describes the necessary dilution of fluorescent antibodies or detection molecules for the assay. Preparing Beads or Reporter Cells on page 21 This section describes the selection of bead types and outlines the necessary conjugation, washing, and concentration steps for preparing the beads (and/or reporter cells) for the assay. This section also describes the necessary washing and dilution steps for extraction beads to prepare them for laser extraction of target hits. Combining Cell and Bead Reagents for Screening on page 35 This section describes how to combine the antibody screening cells and bead reagents for screening. xPloration Workflow Chip Loading and Incubation on page 36 This section describes the procedure for loading the reagent prepared in the previous module, and explains the incubation conditions and duration for the assay. Manual Mode on page 42 and Guided Scan on page 45 This section describes the software steps for two modes: Manual Mode, which allows for a quick check, and Guided Scan, which encompasses the entire workflow. This includes optimizing imaging parameters and scanning a chip region. Image Analysis and Extraction on page 51 This section describes the software steps for image processing, hit selection, and extracting the chosen hits into an OmniAb extraction plate. Report Generation on page 60 This section describes how to review your analysis and extraction results from previous workflow runs. Chip Unload and Instrument Shutdown on page 61 This section provides instructions for unloading a chip and shutting down the instrument. Lysis and Reverse Transcription Lysis and Reverse Transcription on page 62 This section provides the protocol for lysing and performing reverse transcription (RT).\\n\\nScanning Modes\\n\\nOnce a sample is ready for scanning, you can choose between two scanning modes within the xPloration interface: Manual Mode and Guided Scan Mode. \\n\\nThe modes are described in the following table. For most users, Guided Scan Mode is recommended as it offers comprehensive assistance and efficiency in hit extraction.\\n\\nMode Description Manual Mode Manual Mode is designed for quick sample image capture and the extraction of a select few hits. This mode proves beneficial when you want to quickly verify the correct conjugation of beads or capture images of samples with diverse conditions arranged spatially on the chip. This mode is hands-on and offers flexibility, but does not incorporate image analysis. It's advised not to use this mode for extracting more than 10 hits. Guided Scan Mode Guided Scan Mode provides a comprehensive workflow for scanning a larger chip area. It presents a step-by-step process, integrating image analysis, and AI-assisted hit selection. This mode is ideal if you are conducting full workflows and extracting more than 10 hits. This mode simplifies the scanning process and assists in precise hit selection.\\n\\nChip Cleaning\\n\\nProceed to the next chapter if the chips are already cleaned or if you are using fresh chips.\\n\\nRequired Materials\\n\\nStainless steel tweezer\\n\\nDeionized (DI) water\\n\\nRunning tap water\\n\\n1-2 M sodium hydroxide (NaOH)\\n\\n70% ethanol\\n\\nClean dry air compressor\\n\\nSterile weighing boats\\n\\nUltrasonic cleaner tank\\n\\nPlastic (for example, polyethylene, polypropylene) or glass containers resistant to sodium hydroxide \\n\\nWhen working with 1-2 M NaOH (sodium hydroxide), it is essential to wear proper personal protective equipment, including gloves and goggles, to prevent skin and eye contact. Ensure that you are working in a well-ventilated area to avoid inhaling potentially harmful fumes.\\n\\nChip Cleaning\\n\\nStep Description Result Wash the chips under running tap water, directing the water stream perpendicular to the chip’s surface. To ensure a thorough rinse inside the capillary, ensure that you can observe a continuous water stream running through the chip. Chips washed in running tap water Position the chips in a container filled with 500\\xa0mL of 1-2 M NaOH. Close the container and place it in an ultrasonic cleaner tank so that the liquid level of the NaOH aligns with the water bath level. Sonicate for 5 min. Chips soaked in 1–2\\xa0M NaOH and sonicated for 5 minutes Use tweezers to carefully take the chips out of the NaOH solution. Repeat the process of rinsing them under running tap water. To ensure a thorough rinse inside the capillary, ensure that you can observe a continuous water stream running through the chip. Chips washed again in running tap water Position the chips in a container filled with 500 mL of DI water. Set the container into the ultrasonic cleaner tank, ensuring that the water level aligns with the water bath level. Sonicate for 5 min. Chips soaked in DI water and sonicated for 5 minutes Use tweezers to transfer the chips to a container with 500\\xa0mL of 70% ethanol. Set the container into the ultrasonic cleaner tank, ensuring that the water level aligns with the water bath level. Sonicate for 5 min. Chips soaked in 70% ethanol and sonicated for 5 minutes Dry the chips using clean, dry-compressed air. Direct the air stream perpendicular to the chip's surface. Chips dried with clean, dry air Place the cleaned chips in a sterile weighing boat to dry overnight. Chips dried overnight Date started: _______________________\\n\\nOverlay Gel Fabrication\\n\\nProceed to the next chapter if the overlay gels are already made.\\n\\nRequired Materials\\n\\nAgarose powder, low melt temperature (RPI Corp., Cat. 9012-36-6) \\n\\nRPMI-1640, ATCC modification (Gibco, Cat. A10491-01) IMPORTANT: Do not add serum.\\n\\nSterile containers for overlay gel storage\\n\\n70% ethanol\\n\\nWeighing balance\\n\\nBunsen burner\\n\\n25-mL serological pipettes, individually wrapped\\n\\n250-mL Erlenmeyer glass flask or beaker\\n\\nMicrowave\\n\\nWhen handling the hot agarose solution, use caution to avoid burns. Always wear heat-resistant gloves, and be aware of the temperature of the solution when stirring or pouring.\\n\\nProcedure\\n\\nStep Description Results Prepare 1.5% agarose solution in RPMI media in an Erlenmeyer flask or a beaker. For a 1.5% agarose gel, use 450\\xa0mg of agarose for 30\\xa0mL of the RPMI media. Microwave the solution to dissolve the solution. Heat the mixture in short intervals, checking for remaining particulates and swirling each time to prevent overheating. Allow the agarose solution to cool but not solidify. 1.5% gel solution made with RPMI media Position the gel solution and the cassettes on a flat lab bench. Ignite the burner while pouring gels to minimize the risk of gel contamination. Burner ignited 15\\xa0mL of the gel solution to the cassettes while taking care to minimize the bubble formation. Gel solution pipetted to the cassettes Allow the gels to solidify at room temperature for 20 min, positioned near a Bunsen burner Gel solidified at room temperature Gel stored at 4°C Gel created on: _______________________\\n\\nReagent Preparation\\n\\nPreparing Antibody Secreting Cells\\n\\nRequired Materials\\n\\nAntibody secreting cells\\n\\n100% FBS (fetal bovine serum) aliquot (2 mL)\\n\\nLymphocyte media\\n\\n1 mL of 0.1% BSA in 1X phosphate-buffered saline (PBSA)\\n\\n15-mL conical tubes (x2)\\n\\nAO/PI (acridine orange/propidium iodide) for live and dead cell stain (Luna), Trypan blue (hemocytometer)\\n\\n1.5-mL Eppendorf tubes (x3)\\n\\nAutomated cell counter (Luna) or hemocytometer\\n\\nProcedure\\n\\nStep Description Results Prepare lymphocyte media RPMI 1640 Medium, ATCC modification (Gibco, A10491-01) 10% FBS 1% penicillin/streptomycin BME (beta-mercaptoethanol) 0.055 mM 1X NEAA (non-essential amino acid) Lymphocyte media made Prepare reagents at their appropriate working temperatures. Media prewarmed Prewarm 2\\xa0mL of 100% FBS and lymphocyte media in a 37°C water bath for 15\\xa0min. 100% FBS aliquot prewarmed Prechill PBSA (0.1% BSA in 1X PBS) on ice before use. PBSA chilled on ice Thaw one vial of antibody secreting cells in a 37°C water bath for ~1 min. Frozen cell vial thawed in water bath Add 5 mL of the prewarmed media to a conical tube. 5 mL of the media added to a conical tube Add approximately 1\\xa0mL of media to the thawed cells. 1\\xa0mL of media added to cells Slowly transfer the cell solution to the conical tube with the media. Cell sample transferred to the conical tube Slowly add a layer of 1\\xa0mL FBS to the bottom of the conical tube as a padding buffer. You should be able to observe the formation of two distinct solution layers: 100% FBS at the bottom and media at the top. 1\\xa0mL of FBS added to the conical tube bottom Centrifuge the conical tube with cells at room temperature for 5\\xa0min at 400\\xa0g. Cell sample centrifuged at room temperature for 5 min at 400\\xa0g Aspirate the supernatant and resuspend the cells in 1\\xa0mL of the lymphocyte media. Keep the cells on ice. Cell sample resuspended in 1\\xa0mL of the lymphocyte media and kept on ice Set aside 5\\xa0mL of lymphocyte media in a conical tube for making the detection antibody media. 5\\xa0mL of lymphocyte media set aside for the detection antibody media Perform cell counting with live/dead stain. Use either hemocytometer or other cell counters (Luna) to get an accurate cell count. Use cell dyes such as Trypan blue, or AO/PI dye to obtain the live cell count. AO/PI: Diluted at a ratio of 1:10 volume/volume. Trypan blue: Combined in equal volumes with the cells and the dye. IMPORTANT: Typically, >2\\xa0x\\xa0106 cells are needed for screening. For details, see the step 7. ____________________________\\nviable cells/mL Calculate the number of cells required for screening. To maximize the number of hits on a chip, the number of cells per capillary needs to be optimized based on factors such as the species being studied, cell viability, and immunization titer. A pre-screening step may be necessary to assess the hit rate and establish the optimal number of cells per capillary. A recommended starting point is typically 4 cells per capillary. Target number of cells in a capillary: ________________________ cells per capillary Calculate cell loading concentration using the following equation (simplified from Poisson distribution): Target cell loading concentration. (cells/µL): ___________________________\\ntarget cells/µL Multiply by the screening volume (1,500 µL/chip) to get the total target number of cells. See Table 1 on page 20 for an example. Target number of cells required per chip (cells/chip): ___________________________\\ncells/chip From the live cell count, calculate the volume required to achieve the target number of cells per chip from step 187. See Table 1 on page 20 for an example. Cell volume required from the live cell count: ____________________________\\nµL/chip Transfer the aliquoted cells into a new Eppendorf tube. The aliquoted volume of cells pipetted to another Eppendorf tube Add \\xa0µL of chilled PBSA to the Eppendorf tube containing cells. Spin down the tube at 400\\xa0g for 5 min. 0\\xa0µL of chilled PBSA added to the aliquoted cells Verify that there is a cell pellet. Cell pellet verified Aspirate out the supernatant. Resuspend the pellet in 0\\xa0µL of chilled PBSA. Cells resuspended in 0\\xa0µL of chilled PBSA Place the cells on ice. Cells put on ice\\n\\nTable 1 Calculation example for volume of cells needed for screening\\n\\nLive Cell Count Target Number of Cells per Capillary Target Cell Loading Concentration Target Number of Cells per Chip (Cells/Chip) Number of Cells Needed Cell Volume Required for Screening per Chip (µL) 3.2\\xa0x\\xa0107 cells/mL 6 cells 6/0.00125 = 4,800 cells/µL 4,800 x 1,500 = 7.2\\xa0x\\xa0106 cells/chip 7.2\\xa0x\\xa0106 cells 7.2\\xa0x\\xa0106/3.2\\xa0x\\xa0107 x 1,000 = \\n225 µL/chip\\n\\nPreparing Detection Antibody Media\\n\\nRequired Materials\\n\\nLymphocyte media\\n\\nDetection antibody (secondary antibody)\\n\\nIMPORTANT: Detection antibody dilutions may vary depending on the stock concentrations and fluorophore labeling degree. We recommend using the red channel (Cy5) since the longer wavelength minimizes cell damage and background noise.\\n\\nProcedure\\n\\nStep Description Results Dilute the detection antibody stock to 8.9\\xa0nM (1.33\\xa0mg/L). For example, a stock concentration of Goat anti-Chicken IgY (H+L) Secondary Antibody, Alexa Fluor™ 647 (ThermoFisher Scientific, A32933), is 13.3\\xa0µM (2mg/L). See xPloration Filter Settings on page 65 for selecting fluorophores compatible with the xPloration system. Detection antibody prepared at 8.9\\xa0nM (1.33\\xa0g/L) Keep the detection antibody media on ice and cover from light. Detection antibody media on ice and covered from light\\n\\nPreparing Beads or Reporter Cells\\n\\nThis section includes instructions for the following:\\n\\nAssay Beads: This section describes the distinct bead conjugation protocols tailored to varying bead types, accounting for differences in size and surface chemistry. Skip the conjugation section if the beads are already conjugated with the ligand of interest. After bead conjugation, instructions are provided for dilution and washing. Refer to \\n\\nTable 1 on the page 20 for historical bead information that serves as an initial reference guide for bead screening.\\n\\nReporter Cells: This section describes the required cell count, specific dilution procedures, and washing steps essential for the assay.\\n\\nExtraction Beads: This section describes using 1-µm extraction beads to retrieve the contents from individual microcapillaries using laser-based extraction. It provides the appropriate dilution for successful extraction without compromising the assay's fluorescent signals.\\n\\nUM-xPloration-00001 Rev A\\t2\\tConfidential\\n\\nUM-xPloration-00001 Rev A\\t2\\tConfidential\\n\\nTable 2 Beads used previously in xPloration screening\\n\\nBead Type Cat. Num. Diameter (µm) Conjugation Ratio Dilution Ratio for Screening Representative Bead Image Dynabeads Biotin Binder (super-paramagnetic) 11047 2.8 2\\xa0µg/10\\xa0µL beads 1:10 Dynabeads M-450 Epoxy (super-paramagnetic) 14011 4.5 1\\xa0µg/5\\xa0µL beads 1:20 to 1:40 Aldehyde/ Sulfate Latex A37307 9 25\\xa0µg/100\\xa0µL beads 1:30\\n\\nUM-xPloration-00001 Rev A\\t20\\tConfidential\\n\\nUM-xPloration-00001 Rev A\\t23\\tConfidential\\n\\nBead Conjugation\\n\\nThis section provides detailed protocols for conjugating beads with specific ligands of interest, such as antigens or IgG/IgY. If the beads are already pre-conjugated with the desired ligand, proceed to the next section. \\n\\nThe selection of binding chemistries depends on protein properties, potentially impacting the effectiveness of the protein coating. The following beads have been tested by OmniAb.\\n\\nDynabeads Biotin Binder: Biotin binder beads are ideal for proteins that are biotinylated. These beads create a strong and specific interaction with biotinylated proteins through a non-covalent bond, particularly via the strong affinity between biotin and avidin/streptavidin present on the bead surface.\\n\\nDynabeads M450 Epoxy: Epoxy beads facilitate covalent bonding with proteins containing primary amine and/or sulfhydryl groups. The functional epoxy groups on these beads form stable covalent linkages with the primary amines and sulfhydryl present on proteins, ensuring a strong and durable bond.\\n\\nAldehyde/Sulfate Latex: Aldehyde/sulfate latex beads are typically used for surface adsorption of proteins. They provide a surface that facilitates the adsorption of proteins via non-covalent interactions, such as electrostatic forces or hydrophobic interactions, rather than forming direct covalent bonds.\\n\\nIf a particular bead conjugation method fails to achieve the desired results, troubleshooting may involve experimenting with alternative bead conjugation methods or increasing the molar excess for conjugation ratio to 3 or higher.\\n\\nIn multiplex assays involving multiple ligands of interest, it is advisable to use distinct bead sizes for each ligand. For duplex assays, the recommendation is to employ large beads, such as Aldehyde/Sulfate Latex, for one ligand, and either small beads, like Dynabeads Biotin Binder, or medium-sized beads, such as Dynabeads M450 Epoxy, for the other ligand.\\n\\nAnti-IgG/IgY or Biotinylated Ligand Bead Conjugation\\n\\nRequired Materials\\n\\nDynabeads Biotin Binder, diameter 2.8 µm (Invitrogen, 11047)\\n\\nBiotin-SP (long spacer) AffiniPure Donkey Anti-Chicken IgY (IgG) H+L (Jackson ImmunoResearch, 703-065-155) or biotinylated ligand of interest\\n\\nPBSA (0.1% BSA w/v in 1X PBS)\\n\\nPBS, pH 7.4 (Gibco, Cat. 10010023)\\n\\nBSA (Sigma-Aldrich, A7030)\\n\\nDynaMag™-2 magnet (ThermoFisher Scientific, 12321D) or equivalent magnet\\n\\nTube rotator\\n\\nBead Binding Properties and Assay Specifications\\n\\nTable 3 Bead binding properties\\n\\nItem Specification Binding capacity 1\\xa0µg/10\\xa0µL Molar excess for conjugation ratio 2\\n\\nTable 4 xPloration screening information\\n\\nItem Specification Bead dilution 1/10 Total screening volume 1,500\\xa0µL Bead stock volume 1,500\\xa0µL x 1/10 = 150\\xa0µL\\n\\nAmount of Biotin-SP (long spacer) AffiniPure Donkey Anti-Chicken IgY or biotinylated ligand needed:\\n\\nBead stock volume x Binding capacity x Molar excess for conjugation ratio = \\n   150\\xa0µL x 1\\xa0µg/10\\xa0µL x 2 = 30\\xa0µg\\n\\nProcedure\\n\\nStep Description Results Vortex the bead vial for 20\\xa0s and pipette 150\\xa0µL to an Eppendorf tube. The bead vial is vortexed for 20\\xa0s 150\\xa0µL of the beads transferred to an Eppendorf tube Wash the beads in 1\\xa0mL of PBSA. Pull down the beads using the magnet and discard the supernatant without disturbing the beads. Repeat these steps again. Beads washed twice with 1\\xa0mL of PBSA Dilute 30\\xa0µg of the biotinylated ligand in 400\\xa0µL of PBSA in a new Eppendorf tube. 30\\xa0µg of the biotinylated protein added in the 400\\xa0µL of PBSA Resuspend the beads with 400\\xa0µL of diluted biotinylated ligand. Pipette up and down to mix at least 5 times. Beads suspended in diluted biotinylated ligand Place the beads on a tube rotator and incubate them at room temperature for 30 min. Alternatively, for overnight incubation, rotate the tube overnight at 4°C. Beads incubated 30 min at room temperature or overnight at 4°C Pull down the beads using the magnet and discard the supernatant. Wash the beads in 1\\xa0mL of PBSA. Pull down the beads using the magnet and discard the supernatant. Repeat this step again. Repeat steps a and b. Beads washed twice in 1\\xa0mL of PBSA Resuspend the beads in 150\\xa0µL of PBSA and keep them on ice. The beads are ready to use for screening. Alternatively, they can be stored at 4°C for one week. Beads resuspended in 150\\xa0µL of PBSA Bead conjugated on: _______________________\\n\\nEpoxy M-450 Bead Conjugation\\n\\nRequired Materials\\n\\nDynabeads™ M-450 Epoxy, diameter 4.5\\xa0µm (Invitrogen, 14011)\\n\\nLigand of interest\\n\\nBuffer 1: 0.2\\xa0M sodium phosphate, pH 7.4–8.0\\n\\nBuffer 2: Ca2+ and Mg2+ free PBS supplemented with 0.1% BSA and 2\\xa0mM EDTA (ethylenediaminetetraacetic acid), pH 7.4\\n\\nDynaMag-2 magnet (ThermoFisher Scientific, 12321D) or equivalent magnet\\n\\nTube rotator\\n\\nBead Binding Properties and Assay Specifications\\n\\nTable 5 Bead binding properties\\n\\nItem Specification Binding capacity 1\\xa0µg/5\\xa0µL Molar excess for conjugation ratio 1\\n\\nTable 6 xPloration screening information\\n\\nItem Specification Bead dilution 1/20 Total screening volume 1,500\\xa0µL Bead stock volume 1,500\\xa0µL x 1/20 = 75\\xa0µL\\n\\nAmount of protein needed:\\n\\nBead stock volume x Binding capacity x Molar excess for conjugation ratio = \\n   75\\xa0µL x 1\\xa0µg/5\\xa0µL x 1 = 15\\xa0µg\\n\\nProcedure\\n\\nStep Description Results Vortex the bead vial for 20\\xa0s and pipette 75\\xa0µL to an Eppendorf tube. Bead vial vortexed for 20\\xa0s 75\\xa0µL of the beads transferred to an Eppendorf tube Wash the beads in 1,000\\xa0µL of Buffer\\xa01. Pull down the beads using the magnet and discard the supernatant. Repeat these steps again. Beads washed twice with 1,000\\xa0µL of Buffer\\xa01 Dilute 15\\xa0µg of the ligand of interest with 400\\xa0µL of Buffer 1. 15\\xa0µg of the ligand added in 400\\xa0µL of Buffer\\xa01 Resuspend the beads with 400\\xa0µL of diluted ligand. Pipette up and down to mix at least 5 times. Beads suspended in diluted ligand Place the beads on a tube rotator and incubate them at 4°C for 16–24 hours. Beads incubated for 16–24 hours at 4°C Pull down the beads using the magnet and discard the supernatant. Wash the beads in 1\\xa0mL of Buffer\\xa02. Pull down the beads using the magnet and discard the supernatant. Repeat this step again twice. Beads washed three times in1\\xa0mL of Buffer\\xa02 Resuspend the beads in 75\\xa0µL of Buffer\\xa02 and keep them on ice. The beads are ready to use for screening. Alternatively, they can be stored at 4°C for one week. Beads resuspended in 75\\xa0µL of Buffer\\xa02 Bead conjugated on: _______________________\\n\\nAldehyde/Sulfate Bead Conjugation\\n\\nRequired Materials\\n\\nAldehyde/sulfate latex beads, 4% w/v, diameter 9.0\\xa0µm (Invitrogen, A37307)\\n\\nLigand of interest\\n\\nPBS, pH 7.4 (Gibco, Cat. 10010023)\\n\\n0.1% PBSA (0.1% BSA w/v in 1X PBS)\\n\\nPBS, pH 7.4 (Gibco, Cat. 10010023)\\n\\nBSA (Sigma-Aldrich, A7030)\\n\\n3% PBSA (3% BSA w/v in 1X PBS)\\n\\nPBS, pH 7.4 (Gibco, Cat. 10010023)\\n\\nBSA (Sigma-Aldrich, A7030)\\n\\nCentrifuge\\n\\nTube rotator\\n\\nBead Binding Properties and Assay Specifications\\n\\nTable 7 Bead binding properties\\n\\nItem Specification Binding capacity 0.625\\xa0µg/5\\xa0µL Molar excess for conjugation ratio 2\\n\\nTable 8 xPloration screening information\\n\\nItem Specification Bead dilution 1/30 Total screening volume 1,500\\xa0µL Bead stock volume 1,500\\xa0µL x 1/30 = 50\\xa0µL\\n\\nAmount of protein needed:\\n\\nBead stock volume x Binding capacity x Molar excess for conjugation ratio = \\n   50\\xa0µL x 0.625\\xa0µg/5\\xa0µL x 2 = 12.5\\xa0µg\\n\\nProcedure\\n\\nStep Description Results Vortex the bead vial for 20\\xa0s and squeeze 4 drops into an Eppendorf tube. Pipette up and down and transfer the required bead volume to an Eppendorf tube. Bead vial vortexed for 20\\xa0s Required volume of beads aliquoted to an Eppendorf tube Wash the beads in the 1\\xa0mL of PBS. Spin the beads down at 900 x g for 3 min and discard the supernatant. Repeat this step again. Beads washed twice with the 1\\xa0mL of PBS Dilute 12.5\\xa0µg of the ligand of interest with the 400\\xa0µL of PBS. 12.5\\xa0µg of the ligand added in the 400\\xa0µL of PBS Resuspend the beads with 400\\xa0µL of the diluted ligand. Pipette up and down to mix at least 5 times. Beads suspended in the diluted ligand Place the beads on a tube rotator and incubate them at 4°C overnight. Beads incubated overnight at 4°C Spin the beads down at 900 x g for 3\\xa0min and discard the supernatant. Resuspend the beads in 1\\xa0mL of 3% PBSA and incubate for 1\\xa0h at room temperature under the rotator. Beads blocked in 1\\xa0mL of 3% PBSA for 1 h Spin the beads down at 900 x g for 3 min and discard the supernatant. Wash the beads in 1,000\\xa0µL of 0.1% PBSA. Spin the beads down at 900 x g for 3 min and discard the supernatant. Repeat these steps again twice. Beads washed three times in 0.1% PBSA Resuspend the beads in 50\\xa0µL of 0.1% PBSA. The beads are ready to use for screening and keep them on ice. Alternatively, it can be stored at 4°C for one week. Beads resuspended in 50 µL of 0.1% of PBSA Bead conjugated on: _______________________\\n\\nPreparing Conjugated Assay Beads and/or Reporter Cells\\n\\nRequired Materials\\n\\nDetection antibody media (see Preparing Detection Antibody Media on page 20)\\n\\nChilled PBSA (0.1% BSA in 1X PBS)\\n\\nReporter cells (if used)\\n\\nLuna or hemocytometer (if reporter cells are used)\\n\\nConjugated assay beads (if used)\\n\\nDynabeads MyOne Silane (Invitrogen, Catalog. 37002D)\\n\\nProcedure\\n\\nStep Description Results Reporter cell preparation (skip this step if not using reporter cells) Lift and harvest reporter cells. Count live cells with the Luna or a hemocytometer. Six million of each reporter cell is needed. Spin down the cells, then combine them into one Eppendorf tube. Harvested about 6 million cells per chip. ______________________________ viable cells/mL ______________________________ viable cells Wash once resuspend with 1\\xa0mL of chilled PBSA. Keep the cells on ice. Reporter cells washed once with chilled PBSA Bead preparation Determine the bead dilution factor based on your bead type. Bead stocks are diluted based on the total volume of 1,500\\xa0µL per chip. Total volume for screening (including antibody secreting cells, assay beads, reporter cells, extraction beads): 1,500\\xa0µL per chip Extraction beads Vigorously pipette and scrape the bottom of the Dynabead MyOne Silane stock bottle with a pipette tip to thoroughly resuspend, then vortex. Extraction beads mixed thoroughly Pipette 15 µL of extraction bead stock in an Eppendorf tube (the stock volume is based on 1:100 dilution of 1,500\\xa0µL). 15\\xa0µL of extraction bead pipetted into an Eppendorf tube Assay beads IMPORTANT: If the assay and extraction beads are magnetic, washes with chilled PBSA can be done together. Otherwise, washes must be done separately. Determine the assay dilution factors based on the bead catalog (Table 2 for reference) or a previous experiment. Pipette the bead stock up and down to disperse the beads. Pipette each bead volume into Eppendorf tubes. Assay bead catalog: ______________________________ ______________________________ ______________________________ Material Dilution Factor Volume (µL) Extraction beads 1:100 1,500 µL/ 100 = 16\\xa0µL Assay bead type 1 (if applicable) 1: 1,500\\xa0µL/ _______ = __________ Assay bead type 2 (if applicable) 1: 1,500\\xa0µL/ _______ = __________ Assay bead type 3 (if applicable) 1: 1,500\\xa0µL/ _______ = __________ Determine the bead wash type: Latex/non-magnetic beads: Wash with 1\\xa0mL of chilled PBSA by centrifugation. Magnetic/superparamagnetic beads: Wash with an Eppendorf tube magnet. These assay beads can be combined with extraction beads and washed together with 1\\xa0mL of chilled PBSA. Wash the beads twice with 1\\xa0mL of chilled PBSA using either a centrifuge or an Eppendorf tube magnet, depending on the bead type (magnetic or latex). Beads washed twice with 1\\xa0mL of chilled PBSA Aspirate the bead and/or reporter supernatant (chilled PBSA). Resuspend in 750 µL of the detection antibody media. Beads/reporter cells resuspended in 750 µL of the detection antibody media\\n\\nCombining Cell and Bead Reagents for Screening\\n\\nStep Description Results Centrifuge the antibody secreting cell sample (from Preparing Antibody Secreting Cells on page 16) at 400\\xa0g for 5\\xa0min at 4°C. Cell centrifuged at 400\\xa0g for 5 min at 4°C Aspirate the supernatant (PBSA) without disturbing the cell pellet and resuspend in 70\\xa0µL of antibody detection media. Keep the cells on ice. Cell resuspended in 70\\xa0µL of antibody detection media and kept on ice Combine the cell sample and the other assay reagents (beads and/or reporter cells) together to make a 1,500-µL loading reagent. The total volume is 1,500 µL. Cell sample and the bead/reporter cell reagents combined to make a loading reagent. Store the loading reagent on ice and protect from light until ready to load it onto the chip. IMPORTANT After combining all the reagents, proceed promptly to the chip loading step to minimize antibody cross-talk inside the tube. Loading reagent kept on ice and protected from light\\n\\nxPloration Workflow\\n\\nChip Loading and Incubation\\n\\nOnce the loading reagent (consisting of cells, beads, and detection antibody media) has been prepared, the next step is to load it onto the chip and incubate the chip. This section describes the loading procedure.\\n\\nRequired Materials\\n\\nLoading reagent (cells, beads, and detection antibody media)\\n\\nxPloration chip\\n\\nxPloration chip holder and loading slider\\n\\nOverlay gel\\n\\nGel cutter\\n\\nX-ACTO knife\\n\\nCorning® 75\\xa0x\\xa050-mm plain microscope slide (2947-75X50)\\n\\nFoil\\n\\nDeep Petri dish for moisture chamber\\n\\nProcedure\\n\\nStep Description Results Take a chip and place it in a chip holder. Chip loaded in a chip holder Insert the chip holder with the chip into the loading slider. Chip holder with the chip inserted in the loading slider Attach a microscope slide to the loading slider. Microscope slide attached to the loading slider Chip number: ______________________________ To mix the loading reagent, pipette up and down slowly for 10 times. Loading reagent mixed by pipetting Pipette 800 µL of loading reagent slowly onto the chip, covering the entire edge of the chip. Slowly pipette to a new region of the chip while moving the microscope slide slowly. Pipette the remaining 700 µL of loading reagent to cover the entire chip. 1,500 µL of loading reagent added slowly across the chip Remove the chip holder with the chip from the loading slider. IMPORTANT: Do not touch the wet chip surface containing the loading reagent. Chip holder with the chip removed from the loading slider Slowly add the overlay gel on top of the chip. IMPORTANT: To reduce potential dislodging of beads and cells from the microcapillaries, avoid any disturbance to the gel layer. Do not attempt to displace bubbles within the gel once it's positioned on the chip. Gel layer placed on the chip slowly Use a gel cutter and an X-ACTO knife to trim any excess overlay gel hanging off the chip holder. Excessive overlay gel removed Fill the bottom of the Petri dish with 2\\xa0mL of water and close the lid. Place the chip holder with the chip in a Petri dish. Chip holder with the chip placed in a Petri dish filled with a 2\\xa0mL of water Wrap the Petri dish with foil and incubate at 37°C for 1.5 hours. Petri dish covered with foil and incubated at 37°C for 1.5 hours Incubation start time: ______________________________ Incubation end time: ______________________________\\n\\nNext Step\\n\\nIf you are conducting any reagent verification or preliminary assessments before running a full workflow, go to Manual Mode on page 42. \\n\\nIf you are running a full workflow, go to Guided Scan on page 45.\\n\\nManual Mode\\n\\nAbout Manual Mode\\n\\nManual Mode allows you to conduct rapid tests, including checking assay incubation adequacy by identifying hits under a specific fluorescent channel before scanning the chip's entire region. It also enables verification of proper bead conjugation using appropriate controls and the extraction of select capillaries with contents into a 96-well plate. This mode is ideal for quick preliminary assessments but isn't intended for comprehensive campaign workflows. Consider it a preliminary check before proceeding to the full workflow in Guided Scan mode for a more thorough analysis.\\n\\nOn the main screen, click MANUAL MODE to go to the next screen.\\n\\nOn the Manual Mode screen, use the controls as described in Table 9 on page 20 to:\\n\\nView and capture images inside a chip\\n\\nExtract chip contents to a well plate\\n\\nThe following figure and table describe the controls on the Manual Mode screen.\\n\\nTable 9 Manual Mode controls\\n\\n# Name Description 1 Image Capturing Location Click BROWSE to specify the folder in which to save chip images. 2 Settings & Imaging Capture Click LIVE and adjust the Exposure and Gain settings for optimal imaging. Click on a specific channel to view it in the live view. Click CAPTURE to take an image of the selected channel in the live view. 3 Manual Extraction Use to select the location on the well plate where the chip content will be extracted to. Orange indicates the current well position location. Cyan indicates that the extraction was performed on that well position. Click EXTRACT to extract the contents to the selected well plate. 4 Live View Use to view the chip. Click a location to center the view. 5 View Space Controls REFRESH. Click to re-image the Navigator View when reloading the chip. Navigator View. Double-click to navigate to a designated location on the chip. Focus height indicator. The red bar indicates the current stage z location. The green area indicates the approximate chip focus region. Controller. Use these buttons to maneuver the selected stage, whether it's the main stage for chip relocation or the collector stage for well plate adjustment. Adjust the value in the center to modify the step size for movement. Focus. Click the buttons or enter a value to adjust the stage position in the z-direction. Adjust the middle value to change the step size for movement.\\n\\nGuided Scan\\n\\nAbout Guided Scan\\n\\nGuided Scan marks the start of the complete workflow. It allows you to input scanning details, insert a chip, adjust imaging parameters, select a region, and execute automated scanning.\\n\\nProcedure\\n\\nOn the main screen, click GUIDED SCAN to go to the next screen.\\n\\nStep Name Description Create your profile Enter the following information: Project name Animal ID Chip number Target immunogen Your name This information is required and will be stored in the folder for easy tracking. Click NEXT. Load Chip Using the chip holder with top and bottom components, position the chip flat within the grooves of the bottom holder. Follow the on-screen prompts to open the instrument door, place the chip holder on the stage, and firmly secure it by rotating the two holder clamps. IMPORTANT: Exercise caution while clamping the chip holder. Applying excessive force can potentially crack the chip if it is not lying flat inside the holder grooves. Click NEXT. Scan Setting Under Settings & Imaging Capture section, adjust the Exposure (in milliseconds) and Gain (ranging from 1 to 3) for optimal imaging. Under Select your Illumination Channels, designate the imaging channels and set the primary color channel using the menus. Adjust the view of your sample. Navigate the live view by double-clicking on the chip location of interest in the Navigator View within the View Space Controls for broader movements. Use Fine Tune Controls for precise adjustments or left-click to center on specific capillaries. Use the Focus Dist. arrow buttons for accurate sample focusing. IMPORTANT: Ensure precise sample focusing on the primary channel for accurate image analysis. Click NEXT. Adjust the size of the red square by clicking and dragging its sides. This square denotes the scan region. As you alter the square size, it dynamically updates to display the number of views it will capture and estimates the processing time required for imaging. Click NEXT. Chip Focus For precise image capture across the scanning region, it is crucial to focus on the five pre-assigned points—one at each corner and one at the center of the area. Start by clicking on the primary channel to focus the sample. Select each point and use the up and down arrows for focusing. The default step is set to 10\\xa0μm but can be adjusted for finer or coarser steps. Each point must be adjusted at least once for a green checkmark to appear. Ensure that all five points display green checkmarks. Start the scanning process by clicking RUN. IMPORTANT: Ensure precise focusing on each point using the primary channel. Autoscan Using the predetermined image settings, the instrument proceeds to image the specified sample region. You are provided with an estimated duration and percentage of scan completion. Once the imaging has completed, click OK. You are returned to the main screen. The files are saved at D:\\\\xPlorationData.\\n\\nImage Analysis and Extraction\\n\\nAfter completing the chip scan, the images undergo processing and gating based on fluorescence parameters, employing machine learning techniques. Subsequently, you can select multiple hits of interest and allocate these hits to respective OmniAb extraction plates.\\n\\nProcedure\\n\\nOn the main screen, locate the experiment (the most recent is on top) then click IMAGE ANALYSIS next to it.\\n\\nStep Name Description Load Images Ensure that the correct experiment is chosen by verifying the entries under: Project Name Animal Number Antigen Username Click SUBMIT. Analysis Config The scanned images undergo preprocessing to scale and segment, so wait until it is completed. IMPORTANT: The analysis duration may vary depending on the number of views scanned and the channels used. For example, preprocessing a full chip with two channels can take more than 20 minutes. When the image pre-processing is complete, scatter plots will appear. These plots help visualize the relationship between hit mean intensity and capillary fluorescence distribution in the primary channel. Each dot on the plot represents a capillary. To select desired capillaries, adjust the gating lines using the arrow controls. Typically, for positive hits, focus on capillaries showing high capillary fluorescence distribution and high hit mean intensity. If you want to apply a machine learning model to a specific channel, use the Choose Machine Learning Model menu. The Gated Count textbox indicates the number of selected capillaries in the current scatter plot, while the Total Number of Capillaries textbox accumulates the count of selected capillaries across multiple scanning channels. Click the arrow buttons next to the channel name to perform gating for all channels. Click NEXT. Analysis This phase processes and retrieves capillaries according to the applied gating and selected machine learning model. The chosen settings are visible below the progress bar. If an incorrect machine learning model has been selected, you can click CANCEL to return and make the necessary adjustments to the machine learning model. IMPORTANT: The analysis duration can vary depending on the number of chosen capillaries. This process may take over 30 minutes if more than 10,000 capillaries are being processed. Click NEXT when analysis has completed. Extraction Selection After the analysis, select capillaries of interest to extract by selecting the tiles within the image montage, showcasing all imaged channels. Green borders indicate selected capillaries. To choose all images at once, click SELECT ALL. Click on the tiled images or the button again to deselect them. Make selections from all pages using the arrows. The HITS SELECTED text provides a count of the currently chosen capillaries. When finished making selections, click NEXT. Extraction Grouping Depending on the number of capillaries selected, you can designate the specific wells for extraction. Left-click individual wells or right-click, hold, and drag for multi-well selection. Selected wells are colored orange. If needed, click ADD PLATE to include another plate for extraction. You can also click DELETE TRAY to remove the current plate. When done preparing the plate(s), click EXTRACT. Follow the on-screen instructions to load an OmniAb extraction plate into the instrument. Select the channel you wish to view during the extraction process. Use the arrow buttons to focus on the contents of the capillary. Click RUN to initiate the extraction process. Orange-colored wells signify completed extractions. The tile capillary images below the well plate map display the ongoing capillary extraction. You can click STOP (RECONFIG) to stop the extraction process. The Live Screen window exhibits the current hit being extracted. After the extraction completes, a summary appears for your review. Click HOME when done.\\n\\nAdditional Extractions\\n\\nThis section describes how to extract additional hits from the same chip. If you intend to extract more hits without removing the chip, follow the steps provided below.\\n\\nStep Name Description Locate Experiment On the main screen, locate the experiment by searching with the Project Name and Date criteria. Click EXTRACT for that experiment. Extraction Selection The software directs you to select more hits, beginning from Step 4 Extraction Selection. Repeat Step 5 Extraction Grouping, load a new plate, and proceed with extractions as before.\\n\\nReport Generation\\n\\nThe purpose of the review section is to gather pertinent workflow data from previous operations.\\n\\nStep Name Description Locate Experiment On the main screen, locate the experiment by searching with the Project Name and Date criteria. Click REVIEW for that experiment. Review The page displays user data, scan details, and extraction information. To save this information as a PDF, click Print in the upper-right of the screen.\\n\\nChip Unload and Instrument Shutdown\\n\\nStep Name Description Open the instrument door Open the instrument door. Unload the chip Take out the chip from the instrument and dispose of the overlay gel in a designated biohazard container. To reuse the chip, immerse it in a container filled with tap water.\\n\\nUM-xPloration-00001 Rev A\\t20\\tConfidential\\n\\nUM-xPloration-00001 Rev A\\t23\\tConfidential\\n\\nLysis and Reverse Transcription\\n\\nIntroduction\\n\\nThis section describes how to lyse extracted samples and performing reverse transcription to synthesize complementary DNA (cDNA) encoding antibody sequences from mRNA. \\n\\nRequired Materials\\n\\nNOTE: Store all materials at –20°C. \\n\\nTakara 10X lysis buffer (Takara, 635013)\\n\\nTakara Recombinant RNAse Inhibitor (Takara, 2313A)\\n\\nRT PCR-quality water (Invitrogen, AM9935)\\n\\nTakara SMARTScribe Reverse Transcriptase (Takara, 639538)\\n\\nTakara 5X First-Strand Buffer (included in 639538)\\n\\nTakara 20\\xa0mM DTT (included in 639538)\\n\\nAnchored Oligo(dT)20\\xa0Primer (Invitrogen, 12577011)\\n\\ndNTP 10 mM (ThermoFisher Scientific, R0192)\\n\\nProcedure\\n\\nStep Description Results Prepare Anchored Oligo(dT)20 Primer at a concentration of 40\\xa0µM, diluted with PCR-grade water RT and lysis dilutions prepared Prepare reverse transcription (RT) and lysis master mix with the composition in the following table. Keep all components on ice when possible. IMPORTANT: Add Reverse Transcriptase enzyme last. Reagent Volume per Reaction (µL) Volume for 102 Reactions (µL) Takara 10X lysis buffer 0.8 81.6 Takara Recombinant RNAse Inhibitor 0.16 16.3 RT PCR-quality water 7.04 718.1 Takara 5X First-Strand Buffer 4 408 Takara 20\\xa0mM DTT 2 204 Takara SMARTScribe Reverse Transcriptase 2 204 Anchored Oligo(dT)20\\xa0Primer, 40\\xa0µM 2 204 dNTP 10\\xa0mM 2 204 Total Volume 20 2,040 RT and lysis master mix prepared Using sterile technique to minimize RNase contamination of surfaces and solutions, dispense 20\\xa0µL of the RT/lysis mix into each sample well of the 96-well plate. When pipetting manually, make a swirling motion at the bottom of the well to ensure that the whole bottom surface is covered in the mixture. RT/lysis mix dispensed into plate Cover the RT-ready plate with a foil seal, then centrifuge the plate briefly to collect all liquid at the bottom of the wells. Plate centrifuged Place the plate in a thermocycler and start the following protocol: Step Temperature (°C) Duration (Minutes) # of Cycles 1 42 90 1 2 70 15 1 3 4 Hold — Plate run in thermocycler Place the plate on ice or centrifuge the plate briefly and store at –80°C. Plate placed on ice and stored at –80°C\\n\\nxPloration Filter Settings\\n\\nCube Excitation (nm) Emission (nm) Transmission Graph UV 360–390 430–490 GFP 450–490 500–550 TRITC* 535–557 570–639 Cy5 (Red) 590–645 665–733\\n\\nxPloration v2 only\\n\\n\")]"
      ]
     },
     "execution_count": 16,
     "metadata": {},
     "output_type": "execute_result"
    }
   ],
   "source": [
    "documents"
   ]
  },
  {
   "cell_type": "markdown",
   "id": "00af367d-b2da-4e13-bb0b-632eb43a15fb",
   "metadata": {},
   "source": [
    "OpenAI"
   ]
  },
  {
   "cell_type": "code",
   "execution_count": 9,
   "id": "5d7f27a5-d81c-464d-b46f-51c7449f63f9",
   "metadata": {},
   "outputs": [],
   "source": [
    "import os\n",
    "import getpass\n",
    "\n",
    "os.environ[\"OPENAI_API_KEY\"] = getpass.getpass()\n",
    "\n",
    "from langchain_openai import ChatOpenAI\n",
    "model_name = \"gpt-3.5-turbo\"\n",
    "llm = ChatOpenAI(model_name=model_name)"
   ]
  },
  {
   "cell_type": "code",
   "execution_count": 25,
   "id": "980d77aa-ee08-48db-8750-d1c0b33c164e",
   "metadata": {},
   "outputs": [
    {
     "name": "stdout",
     "output_type": "stream",
     "text": [
      "\n",
      "\n",
      "\u001b[1m> Entering new StuffDocumentsChain chain...\u001b[0m\n",
      "\n",
      "\n",
      "\u001b[1m> Entering new LLMChain chain...\u001b[0m\n",
      "Prompt after formatting:\n",
      "\u001b[32;1m\u001b[1;3mSystem: Use the following pieces of context to answer the user's question. \n",
      "If you don't know the answer, just say that you don't know, don't try to make up an answer.\n",
      "----------------\n",
      "xPloration Filter Settings\n",
      "\n",
      "Cube Excitation (nm) Emission (nm) Transmission Graph UV 360–390 430–490 GFP 450–490 500–550 TRITC* 535–557 570–639 Cy5 (Red) 590–645 665–733\n",
      "\n",
      "xPloration v2 only\n",
      "\n",
      "for focusing. The default step is set to 10 μm but can be adjusted for finer or coarser steps. Each point must be adjusted at least once for a green checkmark to appear. Ensure that all five points display green checkmarks. Start the scanning process by clicking RUN. IMPORTANT: Ensure precise focusing on each point using the primary channel. Autoscan Using the predetermined image settings, the instrument proceeds to image the specified sample region. You are provided with an estimated duration and percentage of scan completion. Once the imaging has completed, click OK. You are returned to the main screen. The files are saved at D:\\xPlorationData.\n",
      "\n",
      "Image Analysis and Extraction\n",
      "\n",
      "After completing the chip scan, the images undergo processing and gating based on fluorescence parameters, employing machine learning techniques. Subsequently, you can select multiple hits of interest and allocate these hits to respective OmniAb extraction plates.\n",
      "\n",
      "Procedure\n",
      "\n",
      "On the main screen, locate the experiment (the most recent is on top) then click IMAGE ANALYSIS next to it.\n",
      "\n",
      "Step Name Description Load Images Ensure that the correct experiment is chosen by verifying the entries under: Project Name Animal Number Antigen Username Click SUBMIT. Analysis Config The scanned images undergo preprocessing to scale and segment, so wait until it is completed. IMPORTANT: The analysis duration may vary depending on the number of views scanned and the channels used. For example, preprocessing a full chip with two channels can take more than 20 minutes. When the image pre-processing is complete, scatter plots will appear. These plots help visualize the relationship between hit mean intensity and capillary fluorescence distribution in the primary channel. Each dot on the plot represents a capillary. To select desired capillaries, adjust the gating lines using the arrow controls. Typically, for positive hits, focus on capillaries showing high capillary fluorescence distribution and high hit mean intensity. If you want to apply a machine learning model to a specific\n",
      "Human: What is excitationn and emisssion of GPF filter?\u001b[0m\n",
      "\n",
      "\u001b[1m> Finished chain.\u001b[0m\n",
      "\n",
      "\u001b[1m> Finished chain.\u001b[0m\n"
     ]
    },
    {
     "data": {
      "text/plain": [
       "'The excitation for GFP filter is 450-490 nm, and the emission is 500-550 nm.'"
      ]
     },
     "execution_count": 25,
     "metadata": {},
     "output_type": "execute_result"
    }
   ],
   "source": [
    "from langchain.chains.question_answering import load_qa_chain\n",
    "chain = load_qa_chain(llm, chain_type=\"stuff\",verbose=True)\n",
    "\n",
    "query = \"What is excitationn and emisssion of GPF filter?\"\n",
    "matching_docs = db.similarity_search(query)\n",
    "answer = chain.run(input_documents=matching_docs, question=query)\n",
    "answer\n"
   ]
  },
  {
   "cell_type": "code",
   "execution_count": 26,
   "id": "9524dcda-1432-4175-b3d5-f7fc5575114d",
   "metadata": {},
   "outputs": [
    {
     "data": {
      "text/plain": [
       "'The excitation range for GFP filter is 450-490 nm, and the emission range is 500-550 nm.'"
      ]
     },
     "execution_count": 26,
     "metadata": {},
     "output_type": "execute_result"
    }
   ],
   "source": [
    "from langchain.chains import RetrievalQA\n",
    "retrieval_chain = RetrievalQA.from_chain_type(llm, chain_type=\"stuff\", retriever=db.as_retriever())\n",
    "retrieval_chain.run(query)"
   ]
  }
 ],
 "metadata": {
  "kernelspec": {
   "display_name": "Python 3 (ipykernel)",
   "language": "python",
   "name": "python3"
  },
  "language_info": {
   "codemirror_mode": {
    "name": "ipython",
    "version": 3
   },
   "file_extension": ".py",
   "mimetype": "text/x-python",
   "name": "python",
   "nbconvert_exporter": "python",
   "pygments_lexer": "ipython3",
   "version": "3.9.6"
  }
 },
 "nbformat": 4,
 "nbformat_minor": 5
}
